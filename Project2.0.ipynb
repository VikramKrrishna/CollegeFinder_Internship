{
 "cells": [
  {
   "cell_type": "markdown",
   "id": "bb01f6b5",
   "metadata": {},
   "source": [
    "#  Rock ,Paper & Scissors"
   ]
  }, 
  {
   "cell_type": "code",
   "execution_count": 18,
   "id": "c6a2a905",
   "metadata": {},
   "outputs": [
    {
     "name": "stdout",
     "output_type": "stream",
     "text": [
      "*****Lets play Rock, Paper and Scissor*****\n",
      "Enter player1 choice [Rock, Paper or scissors] as r/p/s: \n",
      "r\n",
      "Enter player2 choice [Rock, Paper or scissors] as r/p/s: \n",
      "p\n",
      "Player1 choose r and Player2 choose p\n",
      "Player2 has won the game\n"
     ]
    }
   ],
   "source": [
    "## user input\n",
    "print(\"*****Lets play Rock, Paper and Scissor*****\")\n",
    "\n",
    "player1 = input(\"Enter player1 choice [Rock, Paper or scissors] as r/p/s: \\n\")\n",
    "player2 = input(\"Enter player2 choice [Rock, Paper or scissors] as r/p/s: \\n\")\n",
    "\n",
    "\n",
    "##logic using conditional checks\n",
    "if (player1=='r') and (player2=='r'):\n",
    "    print(\"Player1 choose {option} and Player2 choose {option2}\".format(option=player1,option2=player2))\n",
    "    print(\"That's a tie\")\n",
    "elif (player1=='r') and (player2=='p'):\n",
    "    print(\"Player1 choose {option} and Player2 choose {option2}\".format(option=player1,option2=player2))\n",
    "    print(\"Player2 has won the game\")\n",
    "elif (player1=='r') and (player2=='s'):\n",
    "    print(\"Player1 choose {option} and Player2 choose {option2}\".format(option=player1,option2=player2))\n",
    "    print(\"Player1 won the game\")\n",
    "    \n",
    "### logic for paper\n",
    "elif (player1=='p') and (player2=='r'):\n",
    "    print(\"Player1 choose {option} and Player2 choose {option2}\".format(option=player1,option2=player2))\n",
    "    print(\"Player1 won the game\")\n",
    "elif (player1=='p') and (player2=='p'):\n",
    "    print(\"Player1 choose {option} and Player2 choose {option2}\".format(option=player1,option2=player2))\n",
    "    print(\"That's a tie\")\n",
    "elif (player1=='p') and (player2=='s'):\n",
    "    print(\"Player1 choose {option} and Player2 choose {option2}\".format(option=player1,option2=player2))\n",
    "    print(\"Player 2 won the game\")\n",
    "    \n",
    "## logic for scissor\n",
    "elif (player1=='s') and (player2=='r'):\n",
    "    print(\"Player1 choose {option} and Player2 choose {option2}\".format(option=player1,option2=player2))\n",
    "    print(\"Player1 won the game\")\n",
    "elif (player1=='s') and (player2=='p'):\n",
    "    print(\"Player1 choose {option} and Player2 choose {option2}\".format(option=player1,option2=player2))\n",
    "    print(\"Player1 won the game\")\n",
    "elif (player1=='s') and (player2=='s'):\n",
    "    print(\"Player1 choose {option} and Player2 choose {option2}\".format(option=player1,option2=player2))\n",
    "    print(\"That's a tie\")\n",
    "\n",
    "## logic for error\n",
    "else:\n",
    "    print(\"Error choose correct option\")\n"
   ]
  },
  {
   "cell_type": "code",
   "execution_count": null,
   "id": "8c2d5ac3",
   "metadata": {},
   "outputs": [],
   "source": []
  }
 ],
 "metadata": {
  "kernelspec": {
   "display_name": "Python 3",
   "language": "python",
   "name": "python3"
  }
 },
 "nbformat": 4,
 "nbformat_minor": 5
}

